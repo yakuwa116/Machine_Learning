{
 "cells": [
  {
   "cell_type": "code",
   "execution_count": 1,
   "metadata": {},
   "outputs": [],
   "source": [
    "# ライブラリの読み込み\n",
    "import numpy as np\n",
    "import pandas as pd\n",
    "from sklearn.feature_extraction.text import CountVectorizer\n",
    "from sklearn.naive_bayes import MultinomialNB\n",
    "from sklearn.model_selection import train_test_split\n",
    "import matplotlib.pyplot as plt"
   ]
  },
  {
   "cell_type": "code",
   "execution_count": 2,
   "metadata": {},
   "outputs": [],
   "source": [
    "# CSV読み込み\n",
    "df = pd.read_csv('./SMSSpamCollection.txt', delimiter=\"\\t\",header=None)"
   ]
  },
  {
   "cell_type": "code",
   "execution_count": 3,
   "metadata": {},
   "outputs": [
    {
     "data": {
      "text/html": [
       "<div>\n",
       "<style scoped>\n",
       "    .dataframe tbody tr th:only-of-type {\n",
       "        vertical-align: middle;\n",
       "    }\n",
       "\n",
       "    .dataframe tbody tr th {\n",
       "        vertical-align: top;\n",
       "    }\n",
       "\n",
       "    .dataframe thead th {\n",
       "        text-align: right;\n",
       "    }\n",
       "</style>\n",
       "<table border=\"1\" class=\"dataframe\">\n",
       "  <thead>\n",
       "    <tr style=\"text-align: right;\">\n",
       "      <th></th>\n",
       "      <th>0</th>\n",
       "      <th>1</th>\n",
       "    </tr>\n",
       "  </thead>\n",
       "  <tbody>\n",
       "    <tr>\n",
       "      <th>0</th>\n",
       "      <td>ham</td>\n",
       "      <td>Go until jurong point, crazy.. Available only ...</td>\n",
       "    </tr>\n",
       "    <tr>\n",
       "      <th>1</th>\n",
       "      <td>ham</td>\n",
       "      <td>Ok lar... Joking wif u oni...</td>\n",
       "    </tr>\n",
       "    <tr>\n",
       "      <th>2</th>\n",
       "      <td>spam</td>\n",
       "      <td>Free entry in 2 a wkly comp to win FA Cup fina...</td>\n",
       "    </tr>\n",
       "    <tr>\n",
       "      <th>3</th>\n",
       "      <td>ham</td>\n",
       "      <td>U dun say so early hor... U c already then say...</td>\n",
       "    </tr>\n",
       "    <tr>\n",
       "      <th>4</th>\n",
       "      <td>ham</td>\n",
       "      <td>Nah I don't think he goes to usf, he lives aro...</td>\n",
       "    </tr>\n",
       "  </tbody>\n",
       "</table>\n",
       "</div>"
      ],
      "text/plain": [
       "      0                                                  1\n",
       "0   ham  Go until jurong point, crazy.. Available only ...\n",
       "1   ham                      Ok lar... Joking wif u oni...\n",
       "2  spam  Free entry in 2 a wkly comp to win FA Cup fina...\n",
       "3   ham  U dun say so early hor... U c already then say...\n",
       "4   ham  Nah I don't think he goes to usf, he lives aro..."
      ]
     },
     "execution_count": 3,
     "metadata": {},
     "output_type": "execute_result"
    }
   ],
   "source": [
    "df.head()"
   ]
  },
  {
   "cell_type": "code",
   "execution_count": 4,
   "metadata": {},
   "outputs": [
    {
     "data": {
      "text/html": [
       "<div>\n",
       "<style scoped>\n",
       "    .dataframe tbody tr th:only-of-type {\n",
       "        vertical-align: middle;\n",
       "    }\n",
       "\n",
       "    .dataframe tbody tr th {\n",
       "        vertical-align: top;\n",
       "    }\n",
       "\n",
       "    .dataframe thead th {\n",
       "        text-align: right;\n",
       "    }\n",
       "</style>\n",
       "<table border=\"1\" class=\"dataframe\">\n",
       "  <thead>\n",
       "    <tr style=\"text-align: right;\">\n",
       "      <th></th>\n",
       "      <th>class</th>\n",
       "      <th>message</th>\n",
       "    </tr>\n",
       "  </thead>\n",
       "  <tbody>\n",
       "    <tr>\n",
       "      <th>0</th>\n",
       "      <td>ham</td>\n",
       "      <td>Go until jurong point, crazy.. Available only ...</td>\n",
       "    </tr>\n",
       "    <tr>\n",
       "      <th>1</th>\n",
       "      <td>ham</td>\n",
       "      <td>Ok lar... Joking wif u oni...</td>\n",
       "    </tr>\n",
       "    <tr>\n",
       "      <th>2</th>\n",
       "      <td>spam</td>\n",
       "      <td>Free entry in 2 a wkly comp to win FA Cup fina...</td>\n",
       "    </tr>\n",
       "    <tr>\n",
       "      <th>3</th>\n",
       "      <td>ham</td>\n",
       "      <td>U dun say so early hor... U c already then say...</td>\n",
       "    </tr>\n",
       "    <tr>\n",
       "      <th>4</th>\n",
       "      <td>ham</td>\n",
       "      <td>Nah I don't think he goes to usf, he lives aro...</td>\n",
       "    </tr>\n",
       "  </tbody>\n",
       "</table>\n",
       "</div>"
      ],
      "text/plain": [
       "  class                                            message\n",
       "0   ham  Go until jurong point, crazy.. Available only ...\n",
       "1   ham                      Ok lar... Joking wif u oni...\n",
       "2  spam  Free entry in 2 a wkly comp to win FA Cup fina...\n",
       "3   ham  U dun say so early hor... U c already then say...\n",
       "4   ham  Nah I don't think he goes to usf, he lives aro..."
      ]
     },
     "execution_count": 4,
     "metadata": {},
     "output_type": "execute_result"
    }
   ],
   "source": [
    "df.columns = ['class', 'message']\n",
    "df = df.rename(columns={0:'class',1:'message'})\n",
    "df.head()"
   ]
  },
  {
   "cell_type": "code",
   "execution_count": 5,
   "metadata": {},
   "outputs": [
    {
     "name": "stdout",
     "output_type": "stream",
     "text": [
      "word size:  2817\n",
      "word content:  [('go', 1089), ('until', 2579), ('point', 1883), ('crazy', 687), ('available', 348)]\n",
      "['00', '000', '02', '0207', '03', '04', '05', '06', '07xxxxxxxxx', '0800', '08000839402', '08000930705', '08000938767', '08001950382', '08002986906', '0808', '0845', '08452810073', '0870', '08701417012', '08702840625', '08707509020', '0871', '08712300220', '08712405020', '08712460324', '08715705022', '08717898035', '08718720201', '087187262701', '08718727870', '09', '09050090044', '09061209465', '09061221066', '09061790121', '09063458130', '09066612661', '10', '100', '1000', '1000s', '100percent', '10am', '10k', '10p', '11', '114', '11mths', '11pm', '12', '121', '123', '125gift', '12hrs', '1327', '14', '145', '1450', '15', '150', '1500', '150p', '150pm', '150ppermesssubscription', '150ppm', '16', '18', '18yrs', '1956669', '1st', '1winaweek', '1x150p', '20', '200', '2000', '2003', '2004', '2005', '20p', '21', '21st', '220', '24', '25', '250', '25p', '26', '28', '29', '2day', '2go', '2lands', '2moro', '2morow', '2morrow', '2mrw', '2nd', '2nite', '2optout', '2stoptxt', '2u', '30', '300', '3030', '31', '33', '350', '3510i', '36504', '3d', '3g', '3gbp', '3lp', '3mins', '3qxj9', '3rd', '3uz', '400', '40gb', '434', '45239', '4742', '4get', '4info', '4mths', '4t', '4th', '4u', '50', '500', '5000', '50gbp', '50p', '50perwksub', '530', '542', '5min', '5p', '5th', '5wb', '5we', '60p', '62468', '6hrs', '6months', '6pm', '6th', '7250i', '75', '750', '786', '7pm', '7th', '800', '80062', '8007', '80082', '80182', '80488', '80878', '81151', '81303', '81618', '82277', '83222', '83355', '83600', '84025', '84128', '84199', '85023', '86021', '86688', '87021', '87066', '87077', '87121', '87131', '87239', '87575', '88039', '88600', '89545', '89555', '8th', '8wp', '900', '9ae', '9am', '9ja', '9pm', '9t', 'aah', 'aathi', 'abi', 'abiola', 'able', 'about', 'abt', 'abta', 'ac', 'acc', 'accept', 'access', 'accident', 'accidentally', 'accordingly', 'account', 'ache', 'across', 'action', 'activate', 'activities', 'actually', 'ad', 'add', 'added', 'addie', 'address', 'admirer', 'adore', 'adult', 'advance', 'advice', 'advise', 'affairs', 'affection', 'afraid', 'aft', 'after', 'afternoon', 'aftr', 'again', 'against', 'age', 'age16', 'ages', 'ago', 'ah', 'aha', 'ahead', 'ahmad', 'aight', 'ain', 'aint', 'air', 'airport', 'aiya', 'aiyah', 'aiyar', 'aiyo', 'al', 'album', 'alcohol', 'alert', 'alex', 'alfie', 'alive', 'all', 'allah', 'almost', 'alone', 'along', 'already', 'alright', 'alrite', 'also', 'always', 'alwys', 'am', 'amazing', 'american', 'among', 'amount', 'amp', 'amt', 'an', 'and', 'angry', 'announcement', 'another', 'ans', 'ansr', 'answer', 'answering', 'answers', 'anti', 'any', 'anybody', 'anymore', 'anyone', 'anythin', 'anything', 'anytime', 'anyway', 'anyways', 'anywhere', 'apartment', 'apologise', 'app', 'apparently', 'apply', 'appointment', 'appreciate', 'apps', 'appt', 'april', 'ar', 'arcade', 'ard', 'are', 'area', 'aren', 'argh', 'argue', 'argument', 'armand', 'arms', 'arng', 'around', 'arrange', 'arrested', 'arrive', 'art', 'arun', 'as', 'asap', 'ask', 'askd', 'asked', 'askin', 'asking', 'asks', 'asleep', 'ass', 'assume', 'at', 'ate', 'atlanta', 'atm', 'attempt', 'attend', 'auction', 'audition', 'august', 'aunty', 'auto', 'available', 'avatar', 'ave', 'avent', 'await', 'awaiting', 'awake', 'award', 'awarded', 'away', 'awesome', 'b4', 'babe', 'babes', 'baby', 'back', 'bad', 'bag', 'bags', 'bak', 'balance', 'bank', 'banks', 'barely', 'basic', 'basically', 'bat', 'bath', 'bathe', 'bathing', 'battery', 'bay', 'bb', 'bcoz', 'bcums', 'bday', 'be', 'beautiful', 'because', 'become', 'becoz', 'bed', 'bedroom', 'been', 'beer', 'befor', 'before', 'begin', 'behave', 'behind', 'bein', 'being', 'believe', 'bell', 'belly', 'belovd', 'ben', 'best', 'best1', 'bet', 'better', 'between', 'beware', 'bf', 'bid', 'big', 'bigger', 'biggest', 'bill', 'billed', 'bin', 'birds', 'birla', 'birth', 'birthday', 'bishan', 'bit', 'bitch', 'biz', 'black', 'blackberry', 'blake', 'blame', 'bless', 'blessings', 'bloke', 'blood', 'bloody', 'blow', 'blue', 'bluetooth', 'bmw', 'boat', 'body', 'bold', 'bonus', 'boo', 'book', 'booked', 'booking', 'books', 'boost', 'booty', 'bored', 'boring', 'born', 'boss', 'boston', 'both', 'bother', 'bottom', 'bought', 'bout', 'bowl', 'box', 'box39822', 'box95qu', 'box97n7qp', 'boy', 'boye', 'boys', 'boytoy', 'brain', 'brand', 'break', 'bright', 'brilliant', 'bring', 'bringing', 'brings', 'bro', 'broke', 'bros', 'brothas', 'brother', 'brought', 'bslvyl', 'bstfrnd', 'bt', 'btw', 'bucks', 'bud', 'budget', 'buff', 'bugis', 'building', 'buns', 'bus', 'business', 'busy', 'but', 'butt', 'buy', 'buying', 'buzy', 'buzz', 'bx420', 'by', 'bye', 'cabin', 'cafe', 'cake', 'cal', 'calicut', 'california', 'call', 'call2optout', 'callback', 'called', 'caller', 'callers', 'callertune', 'callin', 'calling', 'calls', 'cam', 'camcorder', 'came', 'camera', 'campus', 'can', 'cancel', 'cancer', 'cann', 'cannot', 'cant', 'car', 'card', 'cardiff', 'care', 'career', 'careful', 'carefully', 'cares', 'caring', 'carlos', 'carry', 'cars', 'cartoon', 'case', 'cash', 'cat', 'catch', 'catching', 'caught', 'cause', 'cbe', 'cc', 'cd', 'cds', 'celeb', 'celebrate', 'cell', 'center', 'centre', 'certainly', 'cha', 'chain', 'challenge', 'chance', 'change', 'changed', 'character', 'charge', 'charged', 'charges', 'charity', 'chasing', 'chat', 'chatting', 'cheap', 'cheaper', 'chechi', 'check', 'checked', 'checking', 'cheer', 'cheers', 'chennai', 'chicken', 'chikku', 'child', 'childish', 'children', 'chill', 'chillin', 'china', 'chinese', 'choice', 'choose', 'chosen', 'christmas', 'church', 'cine', 'cinema', 'citizen', 'city', 'claim', 'class', 'clean', 'cleaning', 'clear', 'click', 'clock', 'clos1', 'close', 'closed', 'closer', 'club', 'cm2', 'cn', 'co', 'cock', 'code', 'coffee', 'coins', 'cold', 'colleagues', 'collect', 'collected', 'collecting', 'collection', 'college', 'colour', 'com', 'com1win150ppmx3age16', 'come', 'comedy', 'comes', 'comin', 'coming', 'common', 'community', 'comp', 'company', 'competition', 'complete', 'completely', 'complimentary', 'computer', 'comuk', 'concentrate', 'concert', 'conditions', 'confidence', 'confirm', 'confirmed', 'congrats', 'congratulations', 'connect', 'connection', 'considering', 'constantly', 'contact', 'contacted', 'content', 'contract', 'convey', 'cook', 'cooking', 'cool', 'copy', 'cornwall', 'correct', 'cos', 'cost', 'costa', 'costs', 'could', 'couldn', 'country', 'couple', 'course', 'cover', 'coz', 'cr9', 'crack', 'cramps', 'crave', 'crazy', 'cream', 'created', 'credit', 'credited', 'credits', 'cross', 'croydon', 'cruise', 'cry', 'cs', 'csbcm4235wc1n3xx', 'cud', 'cuddle', 'cum', 'cup', 'current', 'currently', 'cust', 'custcare', 'customer', 'cut', 'cute', 'cutefrnd', 'cuz', 'cw25wx', 'da', 'dad', 'daddy', 'dai', 'daily', 'damn', 'dare', 'dark', 'darlin', 'darling', 'darren', 'dat', 'date', 'dates', 'dating', 'dave', 'day', 'days', 'de', 'dead', 'deal', 'dear', 'dear1', 'dearer', 'dearly', 'death', 'december', 'decide', 'decided', 'decimal', 'decision', 'deep', 'def', 'definitely', 'del', 'deleted', 'deliver', 'delivered', 'deliveredtomorrow', 'delivery', 'dem', 'den', 'depends', 'derek', 'details', 'dey', 'di', 'dick', 'dictionary', 'did', 'didn', 'didnt', 'die', 'died', 'diet', 'diff', 'different', 'difficult', 'dificult', 'digital', 'dignity', 'din', 'dinner', 'dint', 'direct', 'directly', 'dirty', 'dis', 'discount', 'discuss', 'dislikes', 'display', 'distance', 'disturb', 'dload', 'dnt', 'do', 'doc', 'docs', 'doctor', 'does', 'doesn', 'doesnt', 'dog', 'dogging', 'doggy', 'doin', 'doing', 'dollars', 'don', 'done', 'dont', 'door', 'doors', 'dot', 'double', 'down', 'download', 'downloads', 'draw', 'dream', 'dreams', 'dress', 'dresser', 'drink', 'drinking', 'drinks', 'drive', 'drivin', 'driving', 'drop', 'dropped', 'drug', 'drugs', 'drunk', 'dry', 'dubsack', 'dude', 'due', 'dun', 'dunno', 'during', 'dvd', 'each', 'earlier', 'early', 'earth', 'easier', 'easy', 'eat', 'eaten', 'eatin', 'eating', 'ec2a', 'eerie', 'eg', 'egg', 'eggs', 'eh', 'eight', 'either', 'else', 'elsewhere', 'em', 'email', 'embarassed', 'empty', 'end', 'ended', 'ending', 'ends', 'enemy', 'energy', 'eng', 'england', 'english', 'enjoy', 'enjoyed', 'enough', 'enter', 'entered', 'entitled', 'entry', 'enuff', 'envelope', 'er', 'erm', 'escape', 'ese', 'especially', 'esplanade', 'essential', 'etc', 'euro', 'euro2004', 'eve', 'even', 'evening', 'ever', 'every', 'everybody', 'everyone', 'everything', 'evn', 'evng', 'ex', 'exact', 'exactly', 'exam', 'exams', 'excellent', 'except', 'exciting', 'excuse', 'executive', 'exhausted', 'expect', 'expecting', 'expensive', 'experience', 'expires', 'explain', 'express', 'extra', 'eye', 'eyes', 'face', 'facebook', 'fact', 'failed', 'fair', 'fall', 'falls', 'family', 'fancies', 'fancy', 'fantasies', 'fantastic', 'fantasy', 'far', 'farm', 'fast', 'faster', 'fat', 'father', 'fathima', 'fault', 'fave', 'favor', 'favour', 'favourite', 'fb', 'fear', 'feb', 'february', 'feel', 'feelin', 'feeling', 'feels', 'fees', 'feet', 'fell', 'felt', 'female', 'fetch', 'fever', 'few', 'fifteen', 'fight', 'fighting', 'fightng', 'figure', 'file', 'files', 'fill', 'fills', 'film', 'films', 'final', 'finally', 'find', 'fine', 'fingers', 'finish', 'finished', 'finishes', 'finishing', 'first', 'fish', 'fit', 'five', 'fix', 'fixed', 'flag', 'flaked', 'flash', 'flat', 'flight', 'flights', 'flirt', 'floor', 'flower', 'fml', 'follow', 'followed', 'following', 'fone', 'food', 'fool', 'football', 'for', 'force', 'foreign', 'forever', 'forevr', 'forget', 'forgot', 'forward', 'forwarded', 'found', 'four', 'fr', 'fran', 'freak', 'free', 'freefone', 'freemsg', 'freephone', 'freezing', 'fren', 'frens', 'fri', 'friday', 'friend', 'friends', 'friendship', 'frm', 'frnd', 'frnds', 'frndship', 'from', 'fromm', 'fuck', 'fuckin', 'fucking', 'ful', 'full', 'fullonsms', 'fun', 'funny', 'further', 'future', 'fyi', 'gal', 'gals', 'game', 'games', 'gang', 'gap', 'gaps', 'garage', 'gardener', 'gary', 'gas', 'gautham', 'gave', 'gay', 'gbp', 'gd', 'ge', 'gee', 'geeee', 'generally', 'gentle', 'gentleman', 'gently', 'genuine', 'germany', 'get', 'gets', 'gettin', 'getting', 'getzed', 'gift', 'gimme', 'girl', 'girlfrnd', 'girls', 'giv', 'give', 'given', 'gives', 'giving', 'glad', 'gm', 'gn', 'go', 'god', 'goes', 'goin', 'going', 'gona', 'gone', 'gonna', 'good', 'goodmorning', 'goodnight', 'goodnite', 'google', 'gorgeous', 'gossip', 'got', 'goto', 'gotta', 'govt', 'gr8', 'grahmbell', 'grand', 'gravity', 'great', 'green', 'greet', 'greetings', 'grins', 'ground', 'group', 'gt', 'guaranteed', 'gud', 'gudnite', 'guess', 'guide', 'guilty', 'guy', 'guys', 'gym', 'ha', 'had', 'haf', 'haha', 'hahaha', 'hai', 'hair', 'haiz', 'half', 'halloween', 'ham', 'hand', 'handed', 'handle', 'hands', 'handset', 'hanging', 'happen', 'happend', 'happened', 'happening', 'happens', 'happiness', 'happy', 'hard', 'hardcore', 'has', 'hasn', 'hate', 'hav', 'have', 'haven', 'havent', 'havin', 'having', 'havnt', 'he', 'head', 'headache', 'hear', 'heard', 'heart', 'heavy', 'hee', 'height', 'hell', 'hella', 'hello', 'help', 'her', 'here', 'hey', 'hg', 'hi', 'high', 'hill', 'him', 'hip', 'his', 'history', 'hit', 'hiya', 'hl', 'hmm', 'hmmm', 'hmv', 'ho', 'hold', 'holder', 'holding', 'holiday', 'holla', 'hols', 'home', 'homeowners', 'hon', 'honey', 'honeybee', 'hook', 'hop', 'hope', 'hopefully', 'hoping', 'horny', 'horrible', 'hospital', 'hostel', 'hot', 'hotel', 'hour', 'hours', 'house', 'how', 'however', 'hows', 'howz', 'hr', 'hrs', 'http', 'hubby', 'hug', 'huh', 'hun', 'hungry', 'hunny', 'hurry', 'hurt', 'hurts', 'husband', 'hv', 'hw', 'iam', 'ibhltd', 'ibiza', 'ic', 'ice', 'id', 'idea', 'ideas', 'identifier', 'idiot', 'idk', 'if', 'ignore', 'ikea', 'il', 'ill', 'im', 'imagine', 'imma', 'immediately', 'important', 'impossible', 'in', 'in2', 'inc', 'inches', 'incident', 'include', 'including', 'inclusive', 'india', 'indian', 'indians', 'infernal', 'info', 'inform', 'information', 'informed', 'innings', 'insha', 'inside', 'instantly', 'instead', 'instituitions', 'instructions', 'insurance', 'intelligent', 'interested', 'interesting', 'internet', 'interview', 'into', 'intro', 'invite', 'invited', 'inviting', 'invnted', 'iouri', 'ip4', 'ipod', 'iq', 'irritating', 'is', 'iscoming', 'ish', 'islands', 'isn', 'isnt', 'issue', 'issues', 'it', 'italian', 'its', 'itself', 'itz', 'ive', 'iz', 'izzit', 'jada', 'james', 'jamster', 'jan', 'jane', 'january', 'jason', 'java', 'jay', 'jazz', 'jealous', 'jen', 'jess', 'jesus', 'jiu', 'job', 'john', 'join', 'joined', 'joke', 'jokes', 'joking', 'jordan', 'journey', 'joy', 'jst', 'jstfrnd', 'juicy', 'july', 'june', 'jus', 'just', 'juz', 'k52', 'kadeem', 'kallis', 'kano', 'karaoke', 'kate', 'kb', 'keep', 'keeping', 'kept', 'kerala', 'kettoda', 'key', 'keys', 'kick', 'kids', 'kidz', 'kind', 'kinda', 'kindly', 'king', 'kiss', 'kisses', 'knackered', 'knew', 'know', 'knowing', 'knows', 'knw', 'kusruthi', 'l8r', 'la', 'lab', 'lacs', 'ladies', 'lady', 'laid', 'land', 'landline', 'laptop', 'lar', 'largest', 'last', 'late', 'later', 'latest', 'latr', 'laugh', 'laughed', 'laughing', 'law', 'lazy', 'ldew', 'ldn', 'ldnw15h', 'le', 'lead', 'learn', 'least', 'leave', 'leaves', 'leaving', 'lect', 'lecture', 'left', 'legal', 'legs', 'leh', 'lei', 'lemme', 'leona', 'less', 'lesson', 'lessons', 'let', 'lets', 'letter', 'letters', 'liao', 'library', 'lick', 'lido', 'lie', 'life', 'lifetime', 'lifpartnr', 'lift', 'light', 'lik', 'like', 'liked', 'likely', 'likes', 'lil', 'line', 'linerental', 'lines', 'link', 'list', 'listen', 'listening', 'little', 'live', 'liverpool', 'lives', 'living', 'll', 'lmao', 'loads', 'loan', 'local', 'locations', 'log', 'login', 'logo', 'lol', 'london', 'lonely', 'long', 'longer', 'look', 'looked', 'lookin', 'looking', 'looks', 'lor', 'lose', 'loses', 'losing', 'loss', 'lost', 'lot', 'lots', 'loud', 'lounge', 'lousy', 'lovable', 'love', 'loved', 'lovely', 'lover', 'loverboy', 'loves', 'loving', 'low', 'loyalty', 'lt', 'ltd', 'luck', 'lucky', 'lunch', 'luv', 'luxury', 'lvblefrnd', 'm26', 'm263uz', 'm8', 'm8s', 'ma', 'machan', 'macho', 'mad', 'madam', 'made', 'maga', 'magical', 'mah', 'maid', 'mail', 'maintain', 'major', 'make', 'makes', 'making', 'malaria', 'male', 'mall', 'man', 'management', 'manda', 'maneesha', 'many', 'map', 'march', 'margaret', 'mark', 'market', 'marriage', 'married', 'marry', 'mas', 'masters', 'match', 'matches', 'mate', 'mates', 'matrix3', 'matter', 'matured', 'max', 'max10mins', 'maximize', 'may', 'mayb', 'maybe', 'me', 'meal', 'mean', 'meaning', 'means', 'meant', 'meanwhile', 'measure', 'med', 'medical', 'medicine', 'meds', 'meet', 'meetin', 'meeting', 'meh', 'melle', 'member', 'members', 'membership', 'men', 'menu', 'merry', 'message', 'messages', 'messenger', 'met', 'mid', 'middle', 'midnight', 'might', 'milk', 'min', 'mind', 'mine', 'mini', 'minmobsmorelkpobox177hp51fl', 'minnaminunginte', 'mins', 'minute', 'minutes', 'minuts', 'miracle', 'miss', 'missed', 'missing', 'mistake', 'mite', 'mix', 'mm', 'mmm', 'mmmm', 'mnth', 'mo', 'moan', 'mob', 'mobile', 'mobiles', 'mobilesdirect', 'mobileupd8', 'moby', 'mode', 'model', 'moji', 'mom', 'moment', 'moments', 'moms', 'mon', 'monday', 'money', 'mono', 'month', 'monthly', 'months', 'mood', 'moon', 'moral', 'more', 'morn', 'morning', 'morphine', 'most', 'mother', 'motorola', 'move', 'moved', 'movie', 'movies', 'mp3', 'mr', 'mrng', 'mrt', 'msg', 'msging', 'msgrcvdhg', 'msgs', 'mt', 'mths', 'mtmsg18', 'mtmsgrcvd18', 'mu', 'much', 'mum', 'mummy', 'murder', 'murdered', 'murderer', 'music', 'must', 'muz', 'my', 'myself', 'na', 'nah', 'naked', 'name', 'names', 'nan', 'nap', 'nat', 'national', 'natural', 'nature', 'naughty', 'nd', 'ne', 'near', 'nearly', 'need', 'needed', 'needs', 'neighbour', 'net', 'netcollex', 'network', 'networking', 'networks', 'neva', 'never', 'new', 'newest', 'news', 'next', 'ni8', 'nice', 'nichols', 'nigeria', 'night', 'nights', 'nimya', 'nite', 'no', 'no1', 'nobody', 'noe', 'nokia', 'nokias', 'noline', 'none', 'noon', 'nope', 'norm', 'norm150p', 'normal', 'normally', 'not', 'note', 'nothing', 'notice', 'now', 'nt', 'ntt', 'ntwk', 'num', 'number', 'numbers', 'nurungu', 'nvm', 'nw', 'nxt', 'nyc', 'nyt', 'o2', 'obviously', 'of', 'off', 'offer', 'offers', 'office', 'official', 'often', 'oh', 'oic', 'ok', 'okay', 'okey', 'okie', 'old', 'omg', 'omw', 'on', 'once', 'one', 'ones', 'oni', 'online', 'only', 'onto', 'onwards', 'oops', 'open', 'operator', 'opinion', 'opportunity', 'opt', 'option', 'optout', 'or', 'or2stoptxt', 'orange', 'orchard', 'order', 'ordered', 'oredi', 'original', 'oru', 'oso', 'other', 'others', 'otherwise', 'our', 'out', 'outside', 'outstanding', 'outta', 'over', 'own', 'oz', 'pa', 'package', 'page', 'pages', 'paid', 'pain', 'painful', 'paper', 'parents', 'paris', 'park', 'parked', 'parking', 'part', 'partner', 'party', 'pass', 'passed', 'passionate', 'password', 'past', 'pay', 'paying', 'payoh', 'pc', 'peace', 'pence', 'pending', 'people', 'per', 'perfect', 'period', 'person', 'personal', 'personality', 'persons', 'pete', 'petrol', 'ph', 'philosophy', 'phne', 'phone', 'phones', 'photo', 'photos', 'pic', 'pick', 'picked', 'picking', 'pics', 'picture', 'pictures', 'pie', 'pieces', 'pig', 'pilates', 'pin', 'pink', 'pissed', 'pix', 'pizza', 'place', 'places', 'plan', 'plane', 'planned', 'planning', 'plans', 'play', 'played', 'player', 'players', 'playing', 'please', 'pleased', 'pleasure', 'plenty', 'pls', 'plus', 'plz', 'pm', 'po', 'pobox', 'pobox334', 'pobox36504w45wq', 'pobox84', 'pocketbabe', 'pod', 'point', 'points', 'police', 'poly', 'polyph', 'polyphonic', 'polys', 'pongal', 'poor', 'pop', 'popped', 'porn', 'possession', 'possible', 'post', 'postcode', 'posted', 'potential', 'pound', 'pounds', 'power', 'ppl', 'pple', 'ppm', 'prabha', 'practice', 'pray', 'praying', 'prefer', 'preferably', 'prepare', 'present', 'press', 'pretty', 'previous', 'previously', 'prey', 'price', 'princess', 'private', 'prize', 'prob', 'probably', 'problem', 'problems', 'process', 'profit', 'project', 'prolly', 'promise', 'proof', 'prospects', 'prove', 'provided', 'ptbo', 'pub', 'public', 'purchase', 'purity', 'purpose', 'pussy', 'put', 'putting', 'qatar', 'quality', 'queen', 'question', 'questioned', 'questions', 'quick', 'quickly', 'quit', 'quite', 'quiz', 'quote', 'quoting', 'radio', 'railway', 'rain', 'raining', 'raise', 'raji', 'rakhesh', 'ran', 'random', 'randomly', 'rang', 'ranjith', 'rate', 'rates', 'rather', 'rays', 'rcvd', 'rd', 're', 'reach', 'reached', 'reaching', 'read', 'reading', 'ready', 'real', 'reality', 'realize', 'realized', 'really', 'realy', 'reason', 'reasons', 'recd', 'receipt', 'receive', 'received', 'receiving', 'recent', 'recently', 'record', 'records', 'red', 'redeemed', 'ref', 'reference', 'refused', 'regarding', 'regards', 'register', 'registered', 'regret', 'regular', 'relation', 'relax', 'released', 'rem', 'remain', 'remains', 'remember', 'remembered', 'remind', 'reminder', 'remove', 'rent', 'rental', 'rentl', 'replied', 'reply', 'replying', 'report', 'representative', 'request', 'requests', 'research', 'respect', 'responce', 'respond', 'responding', 'response', 'rest', 'result', 'results', 'return', 'returned', 'returns', 'reveal', 'revealed', 'review', 'reward', 'rich', 'ride', 'right', 'ring', 'ringtone', 'ringtones', 'rite', 'road', 'roads', 'roast', 'rock', 'rofl', 'roger', 'role', 'romantic', 'ron', 'room', 'roommate', 'roommates', 'rooms', 'rose', 'round', 'row', 'rply', 'rs', 'ru', 'rude', 'rule', 'run', 'running', 'runs', 'rush', 'sachin', 'sad', 'sae', 'safe', 'said', 'salary', 'sale', 'sam', 'same', 'sat', 'satisfied', 'saturday', 'saucy', 'savamob', 'save', 'saved', 'saw', 'say', 'saying', 'says', 'scared', 'scary', 'sch', 'schedule', 'school', 'science', 'score', 'scotland', 'scream', 'screaming', 'screen', 'sea', 'search', 'searching', 'season', 'sec', 'second', 'seconds', 'secret', 'sed', 'see', 'seeing', 'seem', 'seemed', 'seems', 'seen', 'selected', 'selection', 'self', 'sell', 'selling', 'semester', 'sen', 'send', 'sender', 'sending', 'sense', 'sent', 'sentence', 'senthil', 'sept', 'series', 'serious', 'seriously', 'service', 'services', 'set', 'settings', 'settle', 'settled', 'seven', 'sex', 'sexy', 'sh', 'sha', 'shall', 'shame', 'share', 'shd', 'she', 'sheets', 'shesil', 'shijas', 'shirt', 'shirts', 'shit', 'shld', 'shoot', 'shop', 'shopping', 'short', 'shortage', 'shorter', 'shortly', 'shot', 'should', 'shouldn', 'shouted', 'show', 'shower', 'showing', 'shows', 'shuhui', 'shut', 'shy', 'si', 'sick', 'side', 'sighs', 'sight', 'sign', 'silent', 'sim', 'simple', 'simply', 'since', 'sing', 'single', 'singles', 'sipix', 'sir', 'sis', 'sister', 'sit', 'site', 'sitting', 'situation', 'six', 'sk3', 'sk38xh', 'skilgme', 'skillgame', 'skip', 'sky', 'skype', 'slap', 'slave', 'sleep', 'sleeping', 'slept', 'slippers', 'slow', 'slowly', 'small', 'smart', 'smile', 'smiles', 'smiling', 'smoke', 'smokes', 'smoking', 'sms', 'smth', 'sn', 'snow', 'so', 'social', 'sofa', 'soft', 'software', 'sol', 'solve', 'some', 'some1', 'somebody', 'someone', 'somethin', 'something', 'sometime', 'sometimes', 'somewhere', 'song', 'songs', 'sony', 'sonyericsson', 'soon', 'sooner', 'sore', 'sorry', 'sort', 'sorted', 'sorting', 'sory', 'soryda', 'sound', 'sounds', 'soup', 'source', 'south', 'sp', 'space', 'spanish', 'speak', 'special', 'specially', 'speechless', 'speed', 'spell', 'spend', 'spending', 'spent', 'spk', 'spl', 'spoke', 'spoken', 'spook', 'sport', 'spree', 'sry', 'st', 'staff', 'stamps', 'stand', 'standard', 'standing', 'stars', 'start', 'started', 'starting', 'starts', 'starwars3', 'statement', 'station', 'stay', 'staying', 'std', 'step', 'still', 'stock', 'stockport', 'stomach', 'stop', 'stopped', 'stops', 'store', 'storming', 'story', 'str', 'straight', 'stranger', 'street', 'stress', 'strike', 'strong', 'stuck', 'students', 'study', 'studying', 'stuff', 'stupid', 'style', 'stylish', 'sub', 'subpoly', 'subs', 'subscribed', 'subscriber', 'subscription', 'successful', 'successfully', 'sucks', 'sugar', 'suggest', 'suite', 'suite342', 'sum1', 'summer', 'sun', 'sunday', 'sunny', 'sunshine', 'suntec', 'sup', 'super', 'supervisor', 'supply', 'support', 'supposed', 'suprman', 'sura', 'sure', 'surely', 'surfing', 'surprise', 'surprised', 'sweet', 'sweetest', 'swimming', 'swing', 'switch', 'swt', 'swtheart', 'symbol', 'system', 'ta', 'table', 'tablets', 'take', 'taken', 'takes', 'takin', 'taking', 'talent', 'talk', 'talking', 'tampa', 'tape', 'tariffs', 'tat', 'taunton', 'taylor', 'tb', 'tc', 'tcr', 'tcs', 'tea', 'teach', 'team', 'tear', 'tease', 'teasing', 'technical', 'teeth', 'tel', 'tell', 'telling', 'tells', 'telphone', 'temp', 'temple', 'ten', 'tenants', 'tenerife', 'term', 'terms', 'terrible', 'tessy', 'test', 'tests', 'text', 'textcomp', 'texted', 'texting', 'textoperator', 'texts', 'th', 'than', 'thangam', 'thank', 'thanks', 'thanksgiving', 'thanx', 'that', 'thats', 'the', 'theatre', 'their', 'them', 'themob', 'then', 'theory', 'there', 'these', 'they', 'thing', 'things', 'think', 'thinkin', 'thinking', 'thinks', 'this', 'thk', 'thm', 'thnk', 'tho', 'those', 'though', 'thought', 'threats', 'three', 'throat', 'through', 'throw', 'thru', 'ths', 'tht', 'thts', 'thurs', 'thursday', 'ticket', 'tickets', 'til', 'till', 'time', 'times', 'timing', 'tired', 'tirupur', 'tis', 'title', 'titles', 'tkts', 'tlp', 'tm', 'tmr', 'tncs', 'to', 'toa', 'toclaim', 'today', 'todays', 'tog', 'together', 'told', 'toll', 'tom', 'tomarrow', 'tomo', 'tomorrow', 'tone', 'tones', 'tonight', 'tonite', 'too', 'took', 'top', 'torch', 'tot', 'total', 'totally', 'touch', 'touched', 'tough', 'tour', 'towards', 'town', 'track', 'train', 'training', 'transaction', 'transfer', 'transfered', 'travel', 'treat', 'tree', 'tried', 'trip', 'trouble', 'true', 'truly', 'trust', 'truth', 'try', 'trying', 'ts', 'tscs', 'tscs087147403231winawk', 'tt', 'ttyl', 'tuesday', 'tuition', 'turn', 'turns', 'tv', 'twelve', 'twice', 'two', 'txt', 'txtauction', 'txtin', 'txting', 'txts', 'tyler', 'type', 'tyrone', 'u4', 'ugh', 'uk', 'uks', 'umma', 'ummmmmaah', 'un', 'unable', 'uncle', 'uncles', 'under', 'understand', 'understanding', 'understood', 'uni', 'unique', 'university', 'unless', 'unlimited', 'unredeemed', 'unsold', 'unsub', 'unsubscribe', 'until', 'up', 'update', 'upgrade', 'upload', 'upset', 'upto', 'ur', 'urawinner', 'ure', 'urgent', 'urgently', 'urgnt', 'url', 'urself', 'us', 'usc', 'use', 'used', 'user', 'usf', 'using', 'usual', 'usually', 'valentine', 'valentines', 'valid', 'valid12hrs', 'valuable', 'value', 'valued', 'various', 'vary', 'vava', 've', 'vegetables', 'verify', 'version', 'very', 'vettam', 'via', 'video', 'videochat', 'videophones', 'vijay', 'vikky', 'village', 'violence', 'vip', 'visit', 'vl', 'voda', 'vodafone', 'vodka', 'voice', 'voicemail', 'vomit', 'vote', 'voucher', 'vouchers', 'vry', 'w1', 'w111wx', 'w1j6hl', 'w1jhl', 'w45wq', 'wa', 'wah', 'wait', 'waitin', 'waiting', 'wake', 'waking', 'wales', 'walk', 'walked', 'walking', 'wallpaper', 'walmart', 'wan', 'wana', 'wanna', 'want', 'wanted', 'wanting', 'wants', 'wap', 'warm', 'was', 'wasn', 'waste', 'wat', 'watch', 'watching', 'water', 'wats', 'way', 'wc1n3xx', 'we', 'weak', 'wear', 'wearing', 'weather', 'website', 'wed', 'wedding', 'wednesday', 'weed', 'week', 'weekend', 'weekends', 'weekly', 'weeks', 'weight', 'weird', 'welcome', 'well', 'welp', 'wen', 'went', 'were', 'wet', 'what', 'whatever', 'whats', 'when', 'whenever', 'where', 'wherever', 'whether', 'which', 'while', 'white', 'who', 'whole', 'whom', 'whos', 'why', 'wid', 'wif', 'wife', 'wil', 'will', 'willing', 'win', 'wine', 'winner', 'winning', 'wins', 'wisdom', 'wise', 'wish', 'wishes', 'wishing', 'wit', 'with', 'within', 'without', 'wiv', 'wk', 'wkend', 'wkly', 'wn', 'wnt', 'woke', 'woman', 'women', 'won', 'wonder', 'wonderful', 'wondering', 'wonders', 'wont', 'word', 'words', 'work', 'workin', 'working', 'works', 'world', 'worried', 'worries', 'worry', 'worse', 'worth', 'wot', 'would', 'wouldn', 'wow', 'write', 'wrong', 'ws', 'wt', 'wtf', 'wud', 'wun', 'www', 'wylie', 'xavier', 'xchat', 'xmas', 'xuhui', 'xx', 'xxx', 'xxxx', 'xy', 'ya', 'yahoo', 'yan', 'yar', 'yay', 'yeah', 'year', 'years', 'yeh', 'yep', 'yer', 'yes', 'yest', 'yesterday', 'yet', 'yetunde', 'yijue', 'ym', 'yo', 'yoga', 'yogasana', 'yor', 'you', 'your', 'yours', 'yourself', 'yr', 'yrs', 'yummy', 'yun', 'yup', 'zed']\n"
     ]
    }
   ],
   "source": [
    "vec_count = CountVectorizer(min_df=3) # min_dfは単語の最小出現回数を表す\n",
    "vec_count.fit(df['message'])\n",
    "\n",
    "# 単語の種類\n",
    "print('word size: ', len(vec_count.vocabulary_))\n",
    "# 先頭５件の単語を表示\n",
    "print('word content: ', list(vec_count.vocabulary_.items())[0:5])\n",
    "print(vec_count.get_feature_names())"
   ]
  },
  {
   "cell_type": "code",
   "execution_count": 6,
   "metadata": {},
   "outputs": [],
   "source": [
    "# トレーニング・評価データ分割\n",
    "X = df['message']\n",
    "Y = df['class']\n",
    "X_train, X_test, y_train, y_test = train_test_split(X, Y, train_size=0.7, test_size=0.3)"
   ]
  },
  {
   "cell_type": "code",
   "execution_count": 7,
   "metadata": {},
   "outputs": [
    {
     "data": {
      "text/plain": [
       "CountVectorizer(analyzer='word', binary=False, decode_error='strict',\n",
       "                dtype=<class 'numpy.int64'>, encoding='utf-8', input='content',\n",
       "                lowercase=True, max_df=1.0, max_features=None, min_df=3,\n",
       "                ngram_range=(1, 1), preprocessor=None, stop_words=None,\n",
       "                strip_accents=None, token_pattern='(?u)\\\\b\\\\w\\\\w+\\\\b',\n",
       "                tokenizer=None, vocabulary=None)"
      ]
     },
     "execution_count": 7,
     "metadata": {},
     "output_type": "execute_result"
    }
   ],
   "source": [
    "cv = CountVectorizer(min_df=3)\n",
    "cv.fit(X_train)"
   ]
  },
  {
   "cell_type": "code",
   "execution_count": 8,
   "metadata": {},
   "outputs": [],
   "source": [
    "# トレーニング・評価データをベクトル化\n",
    "X_train_vec = cv.transform(X_train)\n",
    "X_test_vec = cv.transform(X_test)"
   ]
  },
  {
   "cell_type": "code",
   "execution_count": 9,
   "metadata": {},
   "outputs": [
    {
     "data": {
      "text/html": [
       "<div>\n",
       "<style scoped>\n",
       "    .dataframe tbody tr th:only-of-type {\n",
       "        vertical-align: middle;\n",
       "    }\n",
       "\n",
       "    .dataframe tbody tr th {\n",
       "        vertical-align: top;\n",
       "    }\n",
       "\n",
       "    .dataframe thead th {\n",
       "        text-align: right;\n",
       "    }\n",
       "</style>\n",
       "<table border=\"1\" class=\"dataframe\">\n",
       "  <thead>\n",
       "    <tr style=\"text-align: right;\">\n",
       "      <th></th>\n",
       "      <th>00</th>\n",
       "      <th>000</th>\n",
       "      <th>02</th>\n",
       "      <th>0207</th>\n",
       "      <th>03</th>\n",
       "      <th>04</th>\n",
       "      <th>06</th>\n",
       "      <th>0800</th>\n",
       "      <th>08000839402</th>\n",
       "      <th>08000930705</th>\n",
       "      <th>...</th>\n",
       "      <th>you</th>\n",
       "      <th>your</th>\n",
       "      <th>yours</th>\n",
       "      <th>yourself</th>\n",
       "      <th>yr</th>\n",
       "      <th>yrs</th>\n",
       "      <th>yummy</th>\n",
       "      <th>yun</th>\n",
       "      <th>yup</th>\n",
       "      <th>zed</th>\n",
       "    </tr>\n",
       "  </thead>\n",
       "  <tbody>\n",
       "    <tr>\n",
       "      <th>0</th>\n",
       "      <td>0</td>\n",
       "      <td>0</td>\n",
       "      <td>0</td>\n",
       "      <td>0</td>\n",
       "      <td>0</td>\n",
       "      <td>0</td>\n",
       "      <td>0</td>\n",
       "      <td>0</td>\n",
       "      <td>0</td>\n",
       "      <td>0</td>\n",
       "      <td>...</td>\n",
       "      <td>0</td>\n",
       "      <td>0</td>\n",
       "      <td>0</td>\n",
       "      <td>0</td>\n",
       "      <td>0</td>\n",
       "      <td>0</td>\n",
       "      <td>0</td>\n",
       "      <td>0</td>\n",
       "      <td>0</td>\n",
       "      <td>0</td>\n",
       "    </tr>\n",
       "    <tr>\n",
       "      <th>1</th>\n",
       "      <td>0</td>\n",
       "      <td>0</td>\n",
       "      <td>0</td>\n",
       "      <td>0</td>\n",
       "      <td>0</td>\n",
       "      <td>0</td>\n",
       "      <td>0</td>\n",
       "      <td>0</td>\n",
       "      <td>0</td>\n",
       "      <td>0</td>\n",
       "      <td>...</td>\n",
       "      <td>0</td>\n",
       "      <td>0</td>\n",
       "      <td>0</td>\n",
       "      <td>0</td>\n",
       "      <td>0</td>\n",
       "      <td>0</td>\n",
       "      <td>0</td>\n",
       "      <td>0</td>\n",
       "      <td>0</td>\n",
       "      <td>0</td>\n",
       "    </tr>\n",
       "    <tr>\n",
       "      <th>2</th>\n",
       "      <td>0</td>\n",
       "      <td>0</td>\n",
       "      <td>0</td>\n",
       "      <td>0</td>\n",
       "      <td>0</td>\n",
       "      <td>0</td>\n",
       "      <td>0</td>\n",
       "      <td>0</td>\n",
       "      <td>0</td>\n",
       "      <td>0</td>\n",
       "      <td>...</td>\n",
       "      <td>0</td>\n",
       "      <td>0</td>\n",
       "      <td>0</td>\n",
       "      <td>0</td>\n",
       "      <td>0</td>\n",
       "      <td>0</td>\n",
       "      <td>0</td>\n",
       "      <td>0</td>\n",
       "      <td>0</td>\n",
       "      <td>0</td>\n",
       "    </tr>\n",
       "    <tr>\n",
       "      <th>3</th>\n",
       "      <td>0</td>\n",
       "      <td>0</td>\n",
       "      <td>0</td>\n",
       "      <td>0</td>\n",
       "      <td>0</td>\n",
       "      <td>0</td>\n",
       "      <td>0</td>\n",
       "      <td>0</td>\n",
       "      <td>0</td>\n",
       "      <td>0</td>\n",
       "      <td>...</td>\n",
       "      <td>3</td>\n",
       "      <td>0</td>\n",
       "      <td>0</td>\n",
       "      <td>0</td>\n",
       "      <td>0</td>\n",
       "      <td>0</td>\n",
       "      <td>0</td>\n",
       "      <td>0</td>\n",
       "      <td>0</td>\n",
       "      <td>0</td>\n",
       "    </tr>\n",
       "    <tr>\n",
       "      <th>4</th>\n",
       "      <td>0</td>\n",
       "      <td>0</td>\n",
       "      <td>0</td>\n",
       "      <td>0</td>\n",
       "      <td>0</td>\n",
       "      <td>0</td>\n",
       "      <td>0</td>\n",
       "      <td>0</td>\n",
       "      <td>0</td>\n",
       "      <td>0</td>\n",
       "      <td>...</td>\n",
       "      <td>1</td>\n",
       "      <td>0</td>\n",
       "      <td>0</td>\n",
       "      <td>0</td>\n",
       "      <td>0</td>\n",
       "      <td>0</td>\n",
       "      <td>0</td>\n",
       "      <td>0</td>\n",
       "      <td>0</td>\n",
       "      <td>0</td>\n",
       "    </tr>\n",
       "  </tbody>\n",
       "</table>\n",
       "<p>5 rows × 2239 columns</p>\n",
       "</div>"
      ],
      "text/plain": [
       "   00  000  02  0207  03  04  06  0800  08000839402  08000930705  ...  you  \\\n",
       "0   0    0   0     0   0   0   0     0            0            0  ...    0   \n",
       "1   0    0   0     0   0   0   0     0            0            0  ...    0   \n",
       "2   0    0   0     0   0   0   0     0            0            0  ...    0   \n",
       "3   0    0   0     0   0   0   0     0            0            0  ...    3   \n",
       "4   0    0   0     0   0   0   0     0            0            0  ...    1   \n",
       "\n",
       "   your  yours  yourself  yr  yrs  yummy  yun  yup  zed  \n",
       "0     0      0         0   0    0      0    0    0    0  \n",
       "1     0      0         0   0    0      0    0    0    0  \n",
       "2     0      0         0   0    0      0    0    0    0  \n",
       "3     0      0         0   0    0      0    0    0    0  \n",
       "4     0      0         0   0    0      0    0    0    0  \n",
       "\n",
       "[5 rows x 2239 columns]"
      ]
     },
     "execution_count": 9,
     "metadata": {},
     "output_type": "execute_result"
    }
   ],
   "source": [
    "# 先頭５件のベクトル化データ表示\n",
    "pd.DataFrame(X_train_vec.toarray()[0:5],columns=cv.get_feature_names())"
   ]
  },
  {
   "cell_type": "code",
   "execution_count": 10,
   "metadata": {},
   "outputs": [
    {
     "data": {
      "text/plain": [
       "MultinomialNB(alpha=1.0, class_prior=None, fit_prior=True)"
      ]
     },
     "execution_count": 10,
     "metadata": {},
     "output_type": "execute_result"
    }
   ],
   "source": [
    "model = MultinomialNB()\n",
    "model.fit(X_train_vec,y_train)"
   ]
  },
  {
   "cell_type": "code",
   "execution_count": 11,
   "metadata": {},
   "outputs": [
    {
     "name": "stdout",
     "output_type": "stream",
     "text": [
      "Train acc = 0.988\n",
      "Test acc = 0.988\n"
     ]
    }
   ],
   "source": [
    "print(\"Train acc = %.3f\" % model.score(X_train_vec,y_train))\n",
    "print(\"Test acc = %.3f\" % model.score(X_test_vec,y_test))"
   ]
  },
  {
   "cell_type": "code",
   "execution_count": 12,
   "metadata": {},
   "outputs": [],
   "source": [
    "data = np.array(['He wrote Dictionaries.',\n",
    "             'Why am I always so slow',\n",
    "             'Free service! Please contact me.'])\n",
    "df_data = pd.DataFrame(data,columns=['message'])\n",
    "df_data_vec = cv.transform(df_data['message'])"
   ]
  },
  {
   "cell_type": "code",
   "execution_count": 13,
   "metadata": {},
   "outputs": [
    {
     "data": {
      "text/plain": [
       "array(['ham', 'ham', 'spam'], dtype='<U4')"
      ]
     },
     "execution_count": 13,
     "metadata": {},
     "output_type": "execute_result"
    }
   ],
   "source": [
    "model.predict(df_data_vec)"
   ]
  },
  {
   "cell_type": "code",
   "execution_count": 14,
   "metadata": {},
   "outputs": [],
   "source": [
    "model_scores = []\n",
    "train_sizes = range(100, len(X_train), 100)"
   ]
  },
  {
   "cell_type": "code",
   "execution_count": 15,
   "metadata": {},
   "outputs": [],
   "source": [
    "for s in train_sizes:\n",
    "    X_slice,_,y_slice,_ = train_test_split(X_train, y_train, train_size=s, stratify=y_train)\n",
    "    cv.fit(X_slice)\n",
    "    X_slice_vec = cv.transform(X_slice)\n",
    "    X_test_vec = cv.transform(X_test)\n",
    "    model.fit(X_slice_vec, y_slice)\n",
    "    model_scores.append(model.score(X_test_vec, y_test))"
   ]
  },
  {
   "cell_type": "code",
   "execution_count": 16,
   "metadata": {},
   "outputs": [
    {
     "data": {
      "image/png": "[encoded data removed]",
      "text/plain": [
       "<Figure size 432x288 with 1 Axes>"
      ]
     },
     "metadata": {
      "needs_background": "light"
     },
     "output_type": "display_data"
    }
   ],
   "source": [
    "plt.plot(train_sizes,model_scores,label='Naive Bayes')\n",
    "\n",
    "plt.title('Accuracies for Naive Bayes')\n",
    "plt.legend()\n",
    "plt.xlabel('Number of training instances')\n",
    "plt.ylabel('Test set accuracy');"
   ]
  },
  {
   "cell_type": "code",
   "execution_count": null,
   "metadata": {},
   "outputs": [],
   "source": []
  }
 ],
 "metadata": {
  "kernelspec": {
   "display_name": "Python 3",
   "language": "python",
   "name": "python3"
  },
  "language_info": {
   "codemirror_mode": {
    "name": "ipython",
    "version": 3
   },
   "file_extension": ".py",
   "mimetype": "text/x-python",
   "name": "python",
   "nbconvert_exporter": "python",
   "pygments_lexer": "ipython3",
   "version": "3.7.6"
  }
 },
 "nbformat": 4,
 "nbformat_minor": 4
}
